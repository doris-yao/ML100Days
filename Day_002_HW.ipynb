{
 "cells": [
  {
   "cell_type": "markdown",
   "metadata": {},
   "source": [
    "## [作業目標]\n",
    "了解機器學習適合應用的領域與範疇。"
   ]
  },
  {
   "cell_type": "markdown",
   "metadata": {},
   "source": [
    "## [作業重點]\n",
    "透過瞭解機器學習的運作方式，找出非常適用機器學習應用的領域及其原因"
   ]
  },
  {
   "cell_type": "markdown",
   "metadata": {},
   "source": [
    "## 作業\n",
    "請找出一個你認為機器學習可以發光發熱的領域並闡述原因? "
   ]
  },
  {
   "cell_type": "code",
   "execution_count": null,
   "metadata": {},
   "outputs": [],
   "source": [
    "   "
   ]
  }
 ],
 "metadata": {
  "kernelspec": {
   "display_name": "Python 3",
   "language": "python",
   "name": "python3"
  },
  "language_info": {
   "codemirror_mode": {
    "name": "ipython",
    "version": 3
   },
   "file_extension": ".py",
   "mimetype": "text/x-python",
   "name": "python",
   "nbconvert_exporter": "python",
   "pygments_lexer": "ipython3",
   "version": "3.6.6"
  }
 },
 "nbformat": 4,
 "nbformat_minor": 2
}
   能發光發熱的領域:學生選擇汽車產業
    闡述原因:
        現今的汽車產業潮自動化邁進，不論是車燈或是倒車雷達都已能自動計算，依據對向來車的距離改變車燈的模式例如遠燈或近燈、依據汽車與
        停車格之間的距離，來計算出最好的停車模式，如果機器學習能用在此領域的更多地方，像是掌握更多的數據，來自動判斷車子身旁的狀況做出
        最好的反應，或是根據駕駛人的駕車習慣，來因應突發狀況，假設車子感受到駕駛人出車禍時，能自動撥號快速接通119，或是感受到駕駛人睡著時，
        能自動切換自架模式，將會大大提高用車安全。
